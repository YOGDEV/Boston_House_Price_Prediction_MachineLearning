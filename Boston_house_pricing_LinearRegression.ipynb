{
  "nbformat": 4,
  "nbformat_minor": 0,
  "metadata": {
    "colab": {
      "provenance": [],
      "authorship_tag": "ABX9TyN0/VfBiVUb6VOwf936T8F8",
      "include_colab_link": true
    },
    "kernelspec": {
      "name": "python3",
      "display_name": "Python 3"
    },
    "language_info": {
      "name": "python"
    }
  },
  "cells": [
    {
      "cell_type": "markdown",
      "metadata": {
        "id": "view-in-github",
        "colab_type": "text"
      },
      "source": [
        "<a href=\"https://colab.research.google.com/github/YOGDEV/Boston_House_Price_Prediction_MachineLearning/blob/main/Boston_house_pricing_LinearRegression.ipynb\" target=\"_parent\"><img src=\"https://colab.research.google.com/assets/colab-badge.svg\" alt=\"Open In Colab\"/></a>"
      ]
    },
    {
      "cell_type": "markdown",
      "source": [
        "Importing liberaries"
      ],
      "metadata": {
        "id": "E-y952c3Mkl3"
      }
    },
    {
      "cell_type": "code",
      "execution_count": 1,
      "metadata": {
        "id": "N9YYIOfXLkL7"
      },
      "outputs": [],
      "source": [
        "import numpy as np\n",
        "import pandas as pd\n",
        "import sklearn"
      ]
    },
    {
      "cell_type": "markdown",
      "source": [
        "Now we will load the data we will be using to train our model\n",
        "\n",
        "Here we are using boston house pricing  dataset which is avaliable in the sklearn liberary itself."
      ],
      "metadata": {
        "id": "bEU2_GVJM_Cn"
      }
    },
    {
      "cell_type": "code",
      "source": [
        "from sklearn.datasets import load_boston\n",
        "df=load_boston()"
      ],
      "metadata": {
        "id": "7djKel3IOrPv"
      },
      "execution_count": null,
      "outputs": []
    },
    {
      "cell_type": "code",
      "source": [
        "df.keys() #returns all the keys of the dataset dictionary"
      ],
      "metadata": {
        "colab": {
          "base_uri": "https://localhost:8080/"
        },
        "id": "6oUpGhpAPbMy",
        "outputId": "aad2a860-f815-436f-fef0-0e12b4879f8c"
      },
      "execution_count": 5,
      "outputs": [
        {
          "output_type": "execute_result",
          "data": {
            "text/plain": [
              "dict_keys(['data', 'target', 'feature_names', 'DESCR', 'filename', 'data_module'])"
            ]
          },
          "metadata": {},
          "execution_count": 5
        }
      ]
    },
    {
      "cell_type": "code",
      "source": [
        "print(df.DESCR) # info about the dataset"
      ],
      "metadata": {
        "id": "dMwdeiSRQ-KM"
      },
      "execution_count": null,
      "outputs": []
    },
    {
      "cell_type": "code",
      "source": [
        "boston=pd.DataFrame(df.data,columns=df.feature_names)#converting dictionary into table format for easy calculations\n",
        "boston.head() #first five lines"
      ],
      "metadata": {
        "id": "bD5jPUGIRqrb"
      },
      "execution_count": null,
      "outputs": []
    },
    {
      "cell_type": "code",
      "source": [
        " boston['TARGET']=df.target\n",
        " boston.head()"
      ],
      "metadata": {
        "id": "k64M2DZ1T2N7"
      },
      "execution_count": null,
      "outputs": []
    },
    {
      "cell_type": "code",
      "source": [
        "boston.isnull() #true means null value is present  "
      ],
      "metadata": {
        "id": "mnCjNXGyU1v5"
      },
      "execution_count": null,
      "outputs": []
    },
    {
      "cell_type": "code",
      "source": [
        "boston.isnull().sum() # 0 indicates that there is no null value in a given table "
      ],
      "metadata": {
        "id": "cIUtGSlQU5qL"
      },
      "execution_count": null,
      "outputs": []
    },
    {
      "cell_type": "markdown",
      "source": [
        "We never train the model on all the data that we have , we always make sure to atleast have a test dataset , which is different from the teaining dataset."
      ],
      "metadata": {
        "id": "lI9mAkfzaEol"
      }
    },
    {
      "cell_type": "code",
      "source": [
        "from sklearn.model_selection import train_test_split\n",
        "\n",
        "X=boston.drop('TARGET',axis=1)# axis=1 means droping column form copy of boston dataset\n",
        "Y=boston['TARGET']\n",
        "\n",
        "X_train,X_test,Y_train,Y_test=train_test_split(X,Y,test_size=0.15,random_state=1)\n",
        "\n",
        "print(X_train.shape)\n",
        "print(X_test.shape)\n",
        "print(Y_train.shape)\n",
        "print(Y_test.shape)"
      ],
      "metadata": {
        "colab": {
          "base_uri": "https://localhost:8080/"
        },
        "id": "1Mn9UX2pVmqH",
        "outputId": "65e80a92-808d-41b7-eb5f-111c62b11f58"
      },
      "execution_count": 32,
      "outputs": [
        {
          "output_type": "stream",
          "name": "stdout",
          "text": [
            "(430, 13)\n",
            "(76, 13)\n",
            "(430,)\n",
            "(76,)\n"
          ]
        }
      ]
    },
    {
      "cell_type": "code",
      "source": [
        "from sklearn.linear_model import LinearRegression\n",
        "from sklearn.metrics import mean_squared_error # for error"
      ],
      "metadata": {
        "id": "iWKlsAD5apn2"
      },
      "execution_count": 34,
      "outputs": []
    },
    {
      "cell_type": "code",
      "source": [
        "#fitting model on the taining dataset\n",
        "\n",
        "lin_model=LinearRegression()\n",
        "lin_model.fit(X_train,Y_train)"
      ],
      "metadata": {
        "colab": {
          "base_uri": "https://localhost:8080/"
        },
        "id": "QwGN1DxDbpoT",
        "outputId": "a70232cc-8677-4152-bac5-d4606de13395"
      },
      "execution_count": 35,
      "outputs": [
        {
          "output_type": "execute_result",
          "data": {
            "text/plain": [
              "LinearRegression()"
            ]
          },
          "metadata": {},
          "execution_count": 35
        }
      ]
    },
    {
      "cell_type": "code",
      "source": [
        "y_train_predict=lin_model.predict(X_train)\n",
        "rmse=(np.sqrt(mean_squared_error(Y_train,y_train_predict)))#rmse=root mean square error\n",
        "\n",
        "\n",
        "print(\"The Model Performance For Training Set\")\n",
        "print(\"RMSE IS {}\",format(rmse))\n",
        "print(\"\\n\")\n",
        "\n",
        "#testing on test dataset\n",
        "y_test_predict=lin_model.predict(X_test)\n",
        "rmse=(np.sqrt(mean_squared_error(Y_test,y_test_predict)))\n",
        "\n",
        "print(\"The Model Performance For Testing Set\")\n",
        "print(\"RMSE IS {}\",format(rmse))\n",
        "print(\"\\n\")\n"
      ],
      "metadata": {
        "colab": {
          "base_uri": "https://localhost:8080/"
        },
        "id": "UUVg8BAAcVcP",
        "outputId": "169989f2-8458-455f-e9fc-f3ca7bd888de"
      },
      "execution_count": 37,
      "outputs": [
        {
          "output_type": "stream",
          "name": "stdout",
          "text": [
            "The Model Performance For Training Set\n",
            "RMSE IS {} 4.691577015539126\n",
            "\n",
            "\n",
            "The Model Performance For Testing Set\n",
            "RMSE IS {} 4.685497050472062\n",
            "\n",
            "\n"
          ]
        }
      ]
    },
    {
      "cell_type": "markdown",
      "source": [
        "Geting almost same error , which means our model is working fine"
      ],
      "metadata": {
        "id": "LFvRtAd8fDkw"
      }
    },
    {
      "cell_type": "code",
      "source": [
        "#matplotlib is a library to plot the curves\n",
        "#part of data visualization\n",
        "\n",
        "import matplotlib.pyplot as plt\n",
        "\n",
        "plt.figure(figsize=(10,10))\n",
        "plt.scatter(Y_test,y_test_predict)\n",
        "plt.plot([min(y_test_predict),max(y_test_predict)],[min(y_test_predict),max(y_test_predict)])\n",
        "plt.xlabel('Actual')\n",
        "plt.ylabel('Predicted')\n"
      ],
      "metadata": {
        "colab": {
          "base_uri": "https://localhost:8080/",
          "height": 623
        },
        "id": "uvYTMKVyfOmA",
        "outputId": "f90c2b29-6eff-41f0-d48d-0c132aafe010"
      },
      "execution_count": 42,
      "outputs": [
        {
          "output_type": "execute_result",
          "data": {
            "text/plain": [
              "Text(0, 0.5, 'Predicted')"
            ]
          },
          "metadata": {},
          "execution_count": 42
        },
        {
          "output_type": "display_data",
          "data": {
            "text/plain": [
              "<Figure size 720x720 with 1 Axes>"
            ],
            "image/png": "[encoded data removed]"
          },
          "metadata": {
            "needs_background": "light"
          }
        }
      ]
    }
  ]
}